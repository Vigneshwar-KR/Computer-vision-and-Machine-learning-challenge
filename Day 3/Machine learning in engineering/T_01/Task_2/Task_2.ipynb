{
  "cells": [
    {
      "cell_type": "markdown",
      "metadata": {},
      "source": [
        "Task_2\n",
        "Open the daily car booking excel for this week, merge the data, rearrange it by model and show the subtotal of each model selling price. Save the result in a new excel sheet.\n",
        "In another sheet, rearrange the orders by their delivery dates with earliest delivery date as first entry."
      ]
    },
    {
      "cell_type": "code",
      "execution_count": 5,
      "metadata": {
        "trusted": true
      },
      "outputs": [
        {
          "name": "stdout",
          "output_type": "stream",
          "text": [
            "     Model  Selling Price Delivery Date\n",
            "0  Model A          25000    25-10-2023\n",
            "1  Model B          28000    26-10-2023\n",
            "2  Model A          25500    27-10-2023\n",
            "3  Model C          30000    25-10-2023\n",
            "4  Model A          25000    25-10-2023\n",
            "     Model  Selling Price\n",
            "0  Model A         101000\n",
            "1  Model B          58000\n",
            "2  Model C          58000\n"
          ]
        }
      ],
      "source": [
        "import pandas as pd\n",
        "\n",
        "# Load data from each daily CSV file into a list of DataFrames\n",
        "data_frames = []\n",
        "# file_path = 'Task_2.csv'  # Update with your CSV file path\n",
        "daily_files=['test_1.csv','test_2.csv']\n",
        "for daily_file in daily_files:  # Replace daily_files with the list of CSV file paths\n",
        "    df = pd.read_csv(daily_file)\n",
        "    data_frames.append(df)\n",
        "\n",
        "# Merge the data frames into a single DataFrame\n",
        "merged_data = pd.concat(data_frames, ignore_index=True)\n",
        "print(merged_data.head())\n",
        "\n",
        "# Rearrange data by model and calculate subtotal\n",
        "model_summary = merged_data.groupby('Model')['Selling Price'].sum().reset_index()\n",
        "print(model_summary)\n",
        "\n",
        "# Save the model summary to a new CSV file\n",
        "model_summary.to_csv('model_summary.csv', index=False)\n",
        "\n",
        "\n",
        "# Rearrange orders by delivery date\n",
        "merged_data.sort_values(by='Delivery Date', inplace=True)\n",
        "\n",
        "# Save the rearranged orders in another CSV file\n",
        "merged_data.to_csv('rearranged_orders.csv', index=False)"
      ]
    },
    {
      "cell_type": "code",
      "execution_count": null,
      "metadata": {},
      "outputs": [],
      "source": []
    }
  ],
  "metadata": {
    "kernelspec": {
      "display_name": "Python 3",
      "language": "python",
      "name": "python3"
    },
    "language_info": {
      "codemirror_mode": {
        "name": "ipython",
        "version": 3
      },
      "file_extension": ".py",
      "mimetype": "text/x-python",
      "name": "python",
      "nbconvert_exporter": "python",
      "pygments_lexer": "ipython3",
      "version": "3.11.0"
    }
  },
  "nbformat": 4,
  "nbformat_minor": 4
}
