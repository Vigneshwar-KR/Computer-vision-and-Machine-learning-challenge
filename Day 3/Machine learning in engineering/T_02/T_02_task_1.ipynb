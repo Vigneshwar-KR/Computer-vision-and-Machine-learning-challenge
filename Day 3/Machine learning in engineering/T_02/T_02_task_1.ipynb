{
 "cells": [
  {
   "cell_type": "code",
   "execution_count": 7,
   "id": "6bd9e2d3-b810-4d93-9a8f-4002442b78ed",
   "metadata": {},
   "outputs": [
    {
     "data": {
      "text/plain": [
       "'c:\\\\Vicky\\\\Tu Braunschweig\\\\Semester 3\\\\Into to ML in engineering\\\\VorlesungÜbung_Introduction_to_Machine_Learning_in_Engineering\\\\Tutorials\\\\T_02'"
      ]
     },
     "execution_count": 7,
     "metadata": {},
     "output_type": "execute_result"
    }
   ],
   "source": [
    "# import necessary libraries\n",
    "import numpy as np\n",
    "import pandas as pd\n",
    "import matplotlib.pyplot as plt\n",
    "import os\n",
    "os.getcwd()"
   ]
  },
  {
   "cell_type": "code",
   "execution_count": 8,
   "id": "0e8b0999-c1fd-4138-938f-4a1b022e2474",
   "metadata": {},
   "outputs": [
    {
     "name": "stdout",
     "output_type": "stream",
     "text": [
      "   Force (F, N)  Displacement (x, m)\n",
      "0             5                 0.10\n",
      "1             7                 0.15\n",
      "2            10                 0.20\n",
      "3             4                 0.08\n",
      "4            12                 0.24\n",
      "5             8                 0.16\n",
      "6            15                 0.30\n",
      "7             6                 0.12\n",
      "8             9                 0.18\n",
      "9            11                 0.22\n"
     ]
    }
   ],
   "source": [
    "df =  pd.read_csv(r'T_02_data.csv')\n",
    "print (df)"
   ]
  },
  {
   "cell_type": "code",
   "execution_count": 20,
   "id": "46f9afb7-6acd-416d-9233-46a69bd513b7",
   "metadata": {},
   "outputs": [
    {
     "name": "stdout",
     "output_type": "stream",
     "text": [
      "[ 5  7 10  4 12  8 15  6  9 11]\n"
     ]
    }
   ],
   "source": [
    "X1= X1=df.iloc[:, 0].values\n",
    "print(X1)\n",
    "#.iloc is a method in Pandas that allows you to select rows and columns in a DataFrame by integer location based on their position rather than by label."
   ]
  },
  {
   "cell_type": "code",
   "execution_count": 21,
   "id": "e3ad1c7d-54bc-4fdd-8c0d-551e66baca4b",
   "metadata": {},
   "outputs": [
    {
     "name": "stdout",
     "output_type": "stream",
     "text": [
      "[0.1  0.15 0.2  0.08 0.24 0.16 0.3  0.12 0.18 0.22]\n"
     ]
    }
   ],
   "source": [
    "Y= Y=df.iloc[:, 1].values\n",
    "print(Y)"
   ]
  },
  {
   "cell_type": "code",
   "execution_count": 22,
   "id": "34fa8bbf-d905-4691-8f44-d7ee9a0f2fdc",
   "metadata": {},
   "outputs": [],
   "source": [
    "# Initialize coefficients (slopes and intercept)\n",
    "alpha =  0.001  # Learning rate\n",
    "epochs =  1000  # Number of iterations\n",
    "theta0_X1 = 0\n",
    "theta1_X1 = 0"
   ]
  },
  {
   "cell_type": "code",
   "execution_count": 23,
   "id": "11f770c0-8ff5-46d6-905d-dc3b8d51abe8",
   "metadata": {},
   "outputs": [],
   "source": [
    "# Gradient Descent for X1\n",
    "for epoch in range(epochs):\n",
    "    Y_pred_X1 = theta0_X1 + theta1_X1 * X1\n",
    "    gradient_theta0_X1 = (-1 / len(X1)) * np.sum(Y - Y_pred_X1)\n",
    "    gradient_theta1_X1 = (-1 / len(X1)) * np.sum((Y - Y_pred_X1) * X1)\n",
    "    #update parameter\n",
    "    theta0_X1 = theta0_X1 - alpha * gradient_theta0_X1\n",
    "    theta1_X1 = theta1_X1 - alpha * gradient_theta1_X1"
   ]
  },
  {
   "cell_type": "code",
   "execution_count": 24,
   "id": "b05a1df6-abed-43c3-addf-df9df39e130f",
   "metadata": {},
   "outputs": [],
   "source": [
    "Y_pred_X1 =  theta0_X1 + theta1_X1 * X1"
   ]
  },
  {
   "cell_type": "code",
   "execution_count": 25,
   "id": "bddc023a-145f-4df5-afa1-06d02cd2afcd",
   "metadata": {},
   "outputs": [],
   "source": [
    "# Calculate mean squared error (MSE) for X1 and X2\n",
    "mse_X1 = np.mean((Y - Y_pred_X1) ** 2)\n",
    "# mse_X2 = np.mean((Y - Y_pred_X2) ** 2)\n",
    "\n",
    "# Calculate R-squared (R²) for X1 and X2\n",
    "ssr_X1 = np.sum((Y_pred_X1 - np.mean(Y)) ** 2)\n",
    "sst_X1 = np.sum((Y - np.mean(Y)) ** 2)\n",
    "r2_X1 = ssr_X1 / sst_X1"
   ]
  },
  {
   "cell_type": "code",
   "execution_count": 26,
   "id": "cadef196-9a0e-4e87-8acf-4523dbf1fe81",
   "metadata": {},
   "outputs": [
    {
     "name": "stdout",
     "output_type": "stream",
     "text": [
      "\n",
      "\n",
      "Linear Regression without Libraries (with Gradient Descent Optimization):\n",
      "For X1:\n",
      "Coefficients (beta1): 0.019873444735061748\n",
      "Coefficients (theta1): None\n",
      "Intercept (theta0): 0.0020575639705800973\n",
      "Mean Squared Error: 8.738330472121377e-06\n",
      "R-squared: 1.0015763717545978\n"
     ]
    }
   ],
   "source": [
    "print(\"\\n\\nLinear Regression without Libraries (with Gradient Descent Optimization):\")\n",
    "print(\"For X1:\")\n",
    "print(\"Coefficients (theta1):\", print(\"Coefficients (beta1):\", theta1_X1))\n",
    "print(\"Intercept (theta0):\", theta0_X1)\n",
    "print(\"Mean Squared Error:\", mse_X1)\n",
    "print(\"R-squared:\", r2_X1)"
   ]
  },
  {
   "cell_type": "code",
   "execution_count": 27,
   "id": "69d6fe98-3003-4bc6-a1b6-765d9e0e48fa",
   "metadata": {},
   "outputs": [
    {
     "data": {
      "image/png": "[encoded data removed]",
      "text/plain": [
       "<Figure size 640x480 with 1 Axes>"
      ]
     },
     "metadata": {},
     "output_type": "display_data"
    }
   ],
   "source": [
    "# Create a scatter plot of the actual data points\n",
    "plt.scatter(X1, Y, label='Actual Y', color='blue', marker='o', s=60)\n",
    "# Create a line plot for the predicted values\n",
    "plt.plot(X1, Y_pred_X1, label='Predicted Y', color='red', linewidth=2)\n",
    "# Set labels and a legend\n",
    "plt.xlabel('X')\n",
    "plt.ylabel('Y')\n",
    "plt.legend()\n",
    "# Show the plot\n",
    "plt.title('Linear Regression Fit')\n",
    "plt.show()"
   ]
  },
  {
   "cell_type": "code",
   "execution_count": null,
   "id": "b6bb52c6",
   "metadata": {},
   "outputs": [],
   "source": []
  }
 ],
 "metadata": {
  "kernelspec": {
   "display_name": "Python 3 (ipykernel)",
   "language": "python",
   "name": "python3"
  },
  "language_info": {
   "codemirror_mode": {
    "name": "ipython",
    "version": 3
   },
   "file_extension": ".py",
   "mimetype": "text/x-python",
   "name": "python",
   "nbconvert_exporter": "python",
   "pygments_lexer": "ipython3",
   "version": "3.11.0"
  },
  "scenes_data": {
   "active_scene": "Default Scene",
   "init_scene": "",
   "scenes": [
    "Default Scene"
   ]
  }
 },
 "nbformat": 4,
 "nbformat_minor": 5
}
