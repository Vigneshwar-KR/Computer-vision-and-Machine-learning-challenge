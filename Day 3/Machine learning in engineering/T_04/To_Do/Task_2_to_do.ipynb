{
 "cells": [
  {
   "cell_type": "code",
   "execution_count": 1,
   "id": "d807b007-325c-4013-86b6-5933297ba150",
   "metadata": {},
   "outputs": [],
   "source": [
    "# https://www.analyticsvidhya.com/blog/2020/11/binary-cross-entropy-aka-log-loss-the-cost-function-used-in-logistic-regression/"
   ]
  },
  {
   "cell_type": "code",
   "execution_count": 10,
   "id": "ac48f7b1-5970-44a0-81e5-85e756a2f555",
   "metadata": {},
   "outputs": [],
   "source": [
    "import os\n",
    "current_directory = os.getcwd()"
   ]
  },
  {
   "cell_type": "code",
   "execution_count": 11,
   "id": "68afc644-4b02-46bd-9d8b-6995cc4f3081",
   "metadata": {},
   "outputs": [],
   "source": [
    "import numpy as np\n",
    "import matplotlib.pyplot as plt\n",
    "import pandas as pd"
   ]
  },
  {
   "cell_type": "code",
   "execution_count": 16,
   "id": "5046236b-1a27-43ff-a158-a4be4cc9c2a7",
   "metadata": {},
   "outputs": [
    {
     "data": {
      "text/html": [
       "<div>\n",
       "<style scoped>\n",
       "    .dataframe tbody tr th:only-of-type {\n",
       "        vertical-align: middle;\n",
       "    }\n",
       "\n",
       "    .dataframe tbody tr th {\n",
       "        vertical-align: top;\n",
       "    }\n",
       "\n",
       "    .dataframe thead th {\n",
       "        text-align: right;\n",
       "    }\n",
       "</style>\n",
       "<table border=\"1\" class=\"dataframe\">\n",
       "  <thead>\n",
       "    <tr style=\"text-align: right;\">\n",
       "      <th></th>\n",
       "      <th>X1</th>\n",
       "      <th>X2</th>\n",
       "      <th>Y</th>\n",
       "    </tr>\n",
       "  </thead>\n",
       "  <tbody>\n",
       "    <tr>\n",
       "      <th>0</th>\n",
       "      <td>5.993428</td>\n",
       "      <td>5.584629</td>\n",
       "      <td>False</td>\n",
       "    </tr>\n",
       "    <tr>\n",
       "      <th>1</th>\n",
       "      <td>4.723471</td>\n",
       "      <td>6.579355</td>\n",
       "      <td>False</td>\n",
       "    </tr>\n",
       "    <tr>\n",
       "      <th>2</th>\n",
       "      <td>6.295377</td>\n",
       "      <td>6.657285</td>\n",
       "      <td>True</td>\n",
       "    </tr>\n",
       "    <tr>\n",
       "      <th>3</th>\n",
       "      <td>8.046060</td>\n",
       "      <td>6.197723</td>\n",
       "      <td>True</td>\n",
       "    </tr>\n",
       "    <tr>\n",
       "      <th>4</th>\n",
       "      <td>4.531693</td>\n",
       "      <td>6.838714</td>\n",
       "      <td>False</td>\n",
       "    </tr>\n",
       "    <tr>\n",
       "      <th>...</th>\n",
       "      <td>...</td>\n",
       "      <td>...</td>\n",
       "      <td>...</td>\n",
       "    </tr>\n",
       "    <tr>\n",
       "      <th>95</th>\n",
       "      <td>2.072970</td>\n",
       "      <td>7.385317</td>\n",
       "      <td>False</td>\n",
       "    </tr>\n",
       "    <tr>\n",
       "      <th>96</th>\n",
       "      <td>5.592241</td>\n",
       "      <td>6.116143</td>\n",
       "      <td>True</td>\n",
       "    </tr>\n",
       "    <tr>\n",
       "      <th>97</th>\n",
       "      <td>5.522111</td>\n",
       "      <td>7.153725</td>\n",
       "      <td>True</td>\n",
       "    </tr>\n",
       "    <tr>\n",
       "      <th>98</th>\n",
       "      <td>5.010227</td>\n",
       "      <td>7.058209</td>\n",
       "      <td>True</td>\n",
       "    </tr>\n",
       "    <tr>\n",
       "      <th>99</th>\n",
       "      <td>4.530826</td>\n",
       "      <td>5.857030</td>\n",
       "      <td>False</td>\n",
       "    </tr>\n",
       "  </tbody>\n",
       "</table>\n",
       "<p>100 rows × 3 columns</p>\n",
       "</div>"
      ],
      "text/plain": [
       "          X1        X2      Y\n",
       "0   5.993428  5.584629  False\n",
       "1   4.723471  6.579355  False\n",
       "2   6.295377  6.657285   True\n",
       "3   8.046060  6.197723   True\n",
       "4   4.531693  6.838714  False\n",
       "..       ...       ...    ...\n",
       "95  2.072970  7.385317  False\n",
       "96  5.592241  6.116143   True\n",
       "97  5.522111  7.153725   True\n",
       "98  5.010227  7.058209   True\n",
       "99  4.530826  5.857030  False\n",
       "\n",
       "[100 rows x 3 columns]"
      ]
     },
     "execution_count": 16,
     "metadata": {},
     "output_type": "execute_result"
    }
   ],
   "source": [
    "# Read the CSV file using Pandas\n",
    "parent_directory = os.path.dirname(current_directory)\n",
    "# print(parent_directory)\n",
    "file_path = os.path.join(parent_directory,\"Task_2.csv\")\n",
    "df = pd.read_csv(file_path)\n",
    "df"
   ]
  },
  {
   "cell_type": "code",
   "execution_count": 17,
   "id": "47318c68-8e36-4dd1-b91c-257820e284de",
   "metadata": {},
   "outputs": [
    {
     "data": {
      "text/plain": [
       "0     5.993428\n",
       "1     4.723471\n",
       "2     6.295377\n",
       "3     8.046060\n",
       "4     4.531693\n",
       "        ...   \n",
       "95    2.072970\n",
       "96    5.592241\n",
       "97    5.522111\n",
       "98    5.010227\n",
       "99    4.530826\n",
       "Name: X1, Length: 100, dtype: float64"
      ]
     },
     "execution_count": 17,
     "metadata": {},
     "output_type": "execute_result"
    }
   ],
   "source": [
    "# import data\n",
    "X1 = df['X1']\n",
    "X2 = df['X2']\n",
    "Y = df['Y']\n",
    "    "
   ]
  },
  {
   "cell_type": "code",
   "execution_count": 18,
   "id": "136485e0-5e03-4695-94af-d9a2ac97f441",
   "metadata": {},
   "outputs": [],
   "source": [
    "# Hyperparameters\n",
    "alpha = 0.01  # Learning rate\n",
    "epochs = 1000  # Number of iterations\n",
    "convergence_threshold = 1e-5  # Convergence threshold for stopping gradient descent\n"
   ]
  },
  {
   "cell_type": "code",
   "execution_count": 19,
   "id": "a395a9d5-b7fd-4e57-b6f0-35e7e5170432",
   "metadata": {},
   "outputs": [],
   "source": [
    "# Initialize coefficients\n",
    "beta0 = 0\n",
    "beta1 = 0\n",
    "beta2 = 0"
   ]
  },
  {
   "cell_type": "code",
   "execution_count": 20,
   "id": "0eb0326d-20fe-4c13-8f73-73c0e3cef615",
   "metadata": {},
   "outputs": [],
   "source": [
    "# Gradient Descent Optimization\n",
    "for epoch in range(epochs):\n",
    "    # Calculate the logistic function (sigmoid)\n",
    "    z = beta0 + beta1 * X1 + beta2 * X2\n",
    "    sigmoid = 1 / (1 + np.exp(-z))\n",
    "\n",
    "    # Calculate the gradients\n",
    "    gradient_beta0 = np.mean(sigmoid - Y)\n",
    "    gradient_beta1 = np.mean((sigmoid - Y) * X1)\n",
    "    gradient_beta2 = np.mean((sigmoid - Y) * X2)\n",
    "\n",
    "\n",
    "    # Update coefficients\n",
    "    beta0 -= alpha * gradient_beta0\n",
    "    beta1 -= alpha * gradient_beta1\n",
    "    beta2 -= alpha * gradient_beta2\n",
    "\n",
    "    # Check for convergence\n",
    "    if abs(gradient_beta0) < convergence_threshold and abs(gradient_beta1) < convergence_threshold and abs(gradient_beta2) < convergence_threshold:\n",
    "        break"
   ]
  },
  {
   "cell_type": "code",
   "execution_count": 21,
   "id": "7fb37de7-34f2-43cd-9e44-0e540efdde9d",
   "metadata": {},
   "outputs": [
    {
     "name": "stdout",
     "output_type": "stream",
     "text": [
      "Logistic Regression without Libraries (Gradient Descent Optimization):\n",
      "Intercept (beta0): -0.31319632497122485\n",
      "Coefficient for X1 (beta1): 0.6983763963875861\n",
      "Coefficient for X2 (beta2): -0.4326666528397437\n"
     ]
    }
   ],
   "source": [
    "# Print the coefficients\n",
    "print(\"Logistic Regression without Libraries (Gradient Descent Optimization):\")\n",
    "print(\"Intercept (beta0):\", beta0)\n",
    "print(\"Coefficient for X1 (beta1):\", beta1)\n",
    "print(\"Coefficient for X2 (beta2):\", beta2)\n"
   ]
  },
  {
   "cell_type": "code",
   "execution_count": 22,
   "id": "29e30e63-b733-445c-81e7-1d40f26fddcd",
   "metadata": {},
   "outputs": [],
   "source": [
    "# Make predictions\n",
    "Y_pred = np.round(1 / (1 + np.exp(-(beta0 + beta1 * X1 + beta2 * X2))))\n"
   ]
  },
  {
   "cell_type": "code",
   "execution_count": 23,
   "id": "524f7158-ad66-4f23-ab46-9301d5708c9e",
   "metadata": {},
   "outputs": [
    {
     "name": "stdout",
     "output_type": "stream",
     "text": [
      "Accuracy: 0.7\n"
     ]
    }
   ],
   "source": [
    "# Evaluate the model (Accuracy)\n",
    "accuracy = np.mean(Y_pred == Y)\n",
    "print(\"Accuracy:\", accuracy)"
   ]
  },
  {
   "cell_type": "code",
   "execution_count": 24,
   "id": "37399a5d-d56d-42a5-9d5b-b0cd1c515d58",
   "metadata": {},
   "outputs": [
    {
     "data": {
      "image/png": "[encoded data removed]",
      "text/plain": [
       "<Figure size 640x480 with 1 Axes>"
      ]
     },
     "metadata": {},
     "output_type": "display_data"
    }
   ],
   "source": [
    "# Plot the data points\n",
    "plt.scatter(X1[Y == 0], X2[Y == 0], color='red', label='Failed')\n",
    "plt.scatter(X1[Y == 1], X2[Y == 1], color='blue', label='Passed')\n",
    "\n",
    "# Plot the decision boundary (linear)\n",
    "x_boundary = np.linspace(min(X1), max(X1), 100)\n",
    "y_boundary = (-beta0 - beta1 * x_boundary) / beta2\n",
    "\n",
    "plt.plot(x_boundary, y_boundary, color='green', linestyle='--', label='Decision Boundary')\n",
    "\n",
    "# Add labels and legend\n",
    "plt.xlabel('Hours of Study')\n",
    "plt.ylabel('Hours of Sleep')\n",
    "plt.legend()\n",
    "plt.show()"
   ]
  },
  {
   "cell_type": "code",
   "execution_count": null,
   "id": "efe462af-379f-4d11-966d-5af28a322fd1",
   "metadata": {},
   "outputs": [],
   "source": [
    "\n"
   ]
  },
  {
   "cell_type": "code",
   "execution_count": null,
   "id": "e5641e64-321c-488e-b62c-95ddbc255e9c",
   "metadata": {},
   "outputs": [],
   "source": []
  }
 ],
 "metadata": {
  "kernelspec": {
   "display_name": "Python 3 (ipykernel)",
   "language": "python",
   "name": "python3"
  },
  "language_info": {
   "codemirror_mode": {
    "name": "ipython",
    "version": 3
   },
   "file_extension": ".py",
   "mimetype": "text/x-python",
   "name": "python",
   "nbconvert_exporter": "python",
   "pygments_lexer": "ipython3",
   "version": "3.11.0"
  },
  "scenes_data": {
   "active_scene": "Default Scene",
   "init_scene": "",
   "scenes": [
    "Default Scene"
   ]
  }
 },
 "nbformat": 4,
 "nbformat_minor": 5
}
