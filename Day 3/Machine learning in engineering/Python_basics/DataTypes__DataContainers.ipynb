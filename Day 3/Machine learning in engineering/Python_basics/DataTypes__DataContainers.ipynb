{
 "cells": [
  {
   "cell_type": "markdown",
   "id": "635a1577",
   "metadata": {},
   "source": [
    "Here you will learn about the programming language Python. Python is a unviversal, interpreted programming language. We will start with the Python basics, followed by an introduction to NumPy, Pandas and Matplotlib.\n",
    "\n",
    "We use Jupyter notebooks to step through the required fundamentals of the programming language and the used libraries. Jupyter provides browser-based, interactive notebooks for programming. Below this text you can see what is called a cell. Each notebook consists of multiple cells, which can be used to show formattted text, images and formulas or to write and programm code. The first cell below this text is a code cell starting with [ ]. In these cells you can type your python code and execute it by simply hitting ```Shift``` + ```Enter```. You then will be placed in a new cell. Try it by typing and executing the following code in the next cell:\n",
    "```python\n",
    "27+2\n",
    "```\n"
   ]
  },
  {
   "cell_type": "code",
   "execution_count": 1,
   "id": "45733f21",
   "metadata": {},
   "outputs": [
    {
     "data": {
      "text/plain": [
       "29"
      ]
     },
     "execution_count": 1,
     "metadata": {},
     "output_type": "execute_result"
    }
   ],
   "source": [
    "27+2"
   ]
  },
  {
   "cell_type": "markdown",
   "id": "8e499ca4",
   "metadata": {},
   "source": [
    "### Variable Assignment and Printing\n",
    "\n",
    "First, we will learn how to work with variables.  In this task, we assign the string \"Hello, World!\" to a variable called 'greeting' and then print its value using the print function.\n",
    "\n",
    "```python\n",
    "\n",
    "greeting = \"Hello, world!\"\n",
    "\n",
    "print(greeting)\n",
    "\"Hello, world!\"\n",
    "```"
   ]
  },
  {
   "cell_type": "code",
   "execution_count": 2,
   "id": "bbece806",
   "metadata": {},
   "outputs": [
    {
     "name": "stdout",
     "output_type": "stream",
     "text": [
      "42\n"
     ]
    }
   ],
   "source": [
    "# Practice cell\n",
    "# Your task: Assign an integer (e.g., 42) to a variable named 'my_number' and print it.\n",
    "\n",
    "my_number = 42\n",
    "print(my_number)\n"
   ]
  },
  {
   "cell_type": "markdown",
   "id": "559d5919",
   "metadata": {},
   "source": [
    "###  Integer and Float Operations\n",
    "In this task, we perform basic arithmetic operations (addition and division) with integer values and store the results in variables.\n",
    "\n",
    "```python\n",
    "# Assign integers to two variables\n",
    "a = 10\n",
    "b = 5\n",
    "\n",
    "# Perform addition and store the result in 'sum'\n",
    "sum = a + b\n",
    "\n",
    "# Perform division and store the result in 'result_div'\n",
    "result_div = a / b\n",
    "\n",
    "\n",
    "# print sum and result_div\n",
    "print(sum)\n",
    "15\n",
    "\n",
    "print(result_div)\n",
    "2\n",
    "```"
   ]
  },
  {
   "cell_type": "code",
   "execution_count": 3,
   "id": "de67214a",
   "metadata": {},
   "outputs": [
    {
     "name": "stdout",
     "output_type": "stream",
     "text": [
      "result_sub: 0.6400000000000001\n",
      "result_mul: 7.8500000000000005\n"
     ]
    }
   ],
   "source": [
    "# Practice cell\n",
    "# Your task: Assign two float numbers (e.g., 3.14 and 2.5) to variables,\n",
    "# perform subtraction, and store the result in 'result_sub'.\n",
    "# Then, perform multiplication and store the result in 'result_mul'.\n",
    "# print 'result_sub', 'result_mul'\n",
    "\n",
    "num1 = 3.14\n",
    "num2 = 2.5\n",
    "\n",
    "result_sub = num1 - num2\n",
    "result_mul = num1 * num2\n",
    "\n",
    "print('result_sub:', result_sub)\n",
    "print('result_mul:', result_mul)\n"
   ]
  },
  {
   "cell_type": "markdown",
   "id": "8bb11d7b",
   "metadata": {},
   "source": [
    "### String Concatenation\n",
    "Here, we concatenate two strings to form a full name with a space in between.\n",
    "\n",
    "\n",
    "```python\n",
    "# Assign two strings to variables\n",
    "first_name = \"John\"\n",
    "last_name = \"Doe\"\n",
    "\n",
    "# Concatenate the strings and store the result in 'full_name'\n",
    "full_name = first_name + \" \" + last_name\n",
    "\n",
    "# print full_name\n",
    "print(full_name)\n",
    "'John Doe'\n",
    "```"
   ]
  },
  {
   "cell_type": "code",
   "execution_count": 4,
   "id": "e8dc842b",
   "metadata": {},
   "outputs": [
    {
     "name": "stdout",
     "output_type": "stream",
     "text": [
      "Hello World\n"
     ]
    }
   ],
   "source": [
    "# Practice cell\n",
    "# Your task: Assign two strings (e.g., \"Hello\" and \"World\") to variables,\n",
    "# concatenate them with a space, and store the result in 'greeting'.\n",
    "\n",
    "\n",
    "string1 = \"Hello\"\n",
    "string2 = \"World\"\n",
    " \n",
    "greeting = string1 + \" \" + string2\n",
    " \n",
    "print(greeting)"
   ]
  },
  {
   "cell_type": "markdown",
   "id": "26dabe78",
   "metadata": {},
   "source": [
    "### Boolean Values and Comparison\n",
    "In this task, we compare two numbers using comparison operators (`>`, `>=`, `==`, `<=`, `<`) and store the results in boolean variables.\n",
    "\n",
    "```python\n",
    "# Assign two numbers to variables\n",
    "num1 = 10\n",
    "num2 = 20\n",
    "\n",
    "# Compare the numbers and store the result in 'is_greater'\n",
    "is_greater = num2 > num1\n",
    "\n",
    "# Assign a boolean value to 'is_equal' based on whether the numbers are equal\n",
    "is_equal = num1 == num2\n",
    "\n",
    "#print the results\n",
    "print(is_greater)\n",
    "True\n",
    "\n",
    "print(is_equal)\n",
    "False\n",
    "```"
   ]
  },
  {
   "cell_type": "code",
   "execution_count": 5,
   "id": "3416d8dd",
   "metadata": {},
   "outputs": [
    {
     "name": "stdout",
     "output_type": "stream",
     "text": [
      "is_less: True\n",
      "is_not_equal: True\n"
     ]
    }
   ],
   "source": [
    "# Practice cell\n",
    "# Your task: Assign two different numbers to variables, compare them to check\n",
    "# if the first number is less than the second, and store the result in 'is_less'.\n",
    "# Then, assign a boolean value to 'is_not_equal' based on whether the numbers\n",
    "# are not equal.\n",
    "\n",
    "\n",
    "num1 = 5\n",
    "num2 = 10\n",
    "\n",
    "is_less = num1 < num2\n",
    "\n",
    "is_not_equal = num1 != num2\n",
    "\n",
    "print('is_less:', is_less)\n",
    "print('is_not_equal:', is_not_equal)"
   ]
  },
  {
   "cell_type": "markdown",
   "id": "21bfaef4",
   "metadata": {},
   "source": [
    "### Data Types (3P)\n",
    "\n",
    "In Python you do not define the data type when initializing a variable (as e.g., in C++) but Python rather determines the type automatically. Still, you should be aware of which possible data types there are. You can always check the data type using the `type()` function.\n",
    "\n",
    "```python\n",
    "# define a string\n",
    "a = 'john'\n",
    "type(a)\n",
    "str\n",
    "\n",
    "# define an integer\n",
    "b = 1\n",
    "type(b)\n",
    "int\n",
    "\n",
    "# define a float\n",
    "c = 3.1415\n",
    "type(c)\n",
    "float\n",
    "\n",
    "# define a boolean\n",
    "d = True\n",
    "type(d)\n",
    "bool\n",
    "```\n"
   ]
  },
  {
   "cell_type": "code",
   "execution_count": 8,
   "id": "60a1c32d",
   "metadata": {},
   "outputs": [
    {
     "name": "stdout",
     "output_type": "stream",
     "text": [
      "<class 'int'>\n",
      "<class 'float'>\n",
      "<class 'str'>\n",
      "<class 'bool'>\n"
     ]
    }
   ],
   "source": [
    "# Practice cell\n",
    "# Your task: create variables of types Integer, Floating point, String, and Boolean. Also, get their datatype.\n",
    "\n",
    "\n",
    "integer_var = 13\n",
    "float_var = 34.2\n",
    "string_var = \"Hello\"\n",
    "boolean_var = True\n",
    "\n",
    "print(type(integer_var))\n",
    "print(type(float_var))\n",
    "print(type(string_var))\n",
    "print(type(boolean_var))\n"
   ]
  },
  {
   "cell_type": "markdown",
   "id": "bd7284cc",
   "metadata": {},
   "source": [
    "# Data containers\n",
    "Often times in programming not only single values are needed but collections of values. Python offers various possibilities  \n"
   ]
  },
  {
   "cell_type": "markdown",
   "id": "b5c4a7ba",
   "metadata": {},
   "source": [
    "## Lists\n",
    "List is the most common container in python.\n",
    "\n",
    "\n",
    "### creating a list\n",
    "Lists may continue as many elements as needed. Elements must not be of the same type.\n",
    "\n",
    "```python\n",
    "a = [1, 2, 89, 'john', True, 3.1415]\n",
    "\n",
    "```"
   ]
  },
  {
   "cell_type": "code",
   "execution_count": 15,
   "id": "78a6f384",
   "metadata": {},
   "outputs": [
    {
     "name": "stdout",
     "output_type": "stream",
     "text": [
      "favorite colors: ['blue', 'red', 'black', 'white']\n"
     ]
    }
   ],
   "source": [
    "# Practice cell\n",
    "# Your task: Create a list of your favorite colors and display it.\n",
    "\n",
    "\n",
    "colors = ['blue', 'red', 'black', 'white']\n",
    "\n",
    "print(\"favorite colors:\", colors)"
   ]
  },
  {
   "cell_type": "markdown",
   "id": "dea92fdb",
   "metadata": {},
   "source": [
    "### getting the length of a list\n",
    "We can get the length of a list by using the command `len()`\n",
    "\n",
    "```python\n",
    "a = ['john', 'mary', 'phoebe', 'rick']\n",
    "\n",
    "len(a)\n",
    "4\n",
    "```"
   ]
  },
  {
   "cell_type": "code",
   "execution_count": 16,
   "id": "e6df6995",
   "metadata": {},
   "outputs": [
    {
     "data": {
      "text/plain": [
       "4"
      ]
     },
     "execution_count": 16,
     "metadata": {},
     "output_type": "execute_result"
    }
   ],
   "source": [
    "# Practice cell\n",
    "# Your task: get the length of your colors-list\n",
    "\n",
    "\n",
    "len(colors)\n",
    "\n"
   ]
  },
  {
   "cell_type": "markdown",
   "id": "29b4d581",
   "metadata": {},
   "source": [
    "### Accessing List Elements\n",
    "In this task, we access and display the first and fourth element of the names list using indexing. \n",
    "\n",
    "\n",
    "##### *Lists in Python are zero-indexed, so the second element has an index of 1.*\n",
    "\n",
    "\n",
    "```python\n",
    "\n",
    "\n",
    "# define a list\n",
    "a = ['john', 'mary', 'phoebe', 'rick']\n",
    "\n",
    "\n",
    "# get the 1st element\n",
    "a[0]\n",
    "john\n",
    "\n",
    "# get the 4th element\n",
    "a[3]\n",
    "rick\n",
    "```"
   ]
  },
  {
   "cell_type": "code",
   "execution_count": 17,
   "id": "c590682c",
   "metadata": {},
   "outputs": [
    {
     "data": {
      "text/plain": [
       "'black'"
      ]
     },
     "execution_count": 17,
     "metadata": {},
     "output_type": "execute_result"
    }
   ],
   "source": [
    "# Practice cell\n",
    "# Your task: get the 3rd element of your colors-list\n",
    "\n",
    "colors[2]\n",
    "\n",
    "\n"
   ]
  },
  {
   "cell_type": "markdown",
   "id": "2422b6d8",
   "metadata": {},
   "source": [
    "### Modifying List Elements\n",
    "Here, we change the first element of the names list to \"coco\" and the third element to \"elain\" using indexing. \n",
    "\n",
    "##### *Lists in Python are mutable, allowing us to modify their elements.*\n",
    "\n",
    "\n",
    "\n",
    "```python\n",
    "\n",
    "\n",
    "# define a list\n",
    "a = ['john', 'mary', 'phoebe', 'rick']\n",
    "\n",
    "# change the first and thirst element of the list\n",
    "a[0] = 'coco'\n",
    "a[2] = 'elain'\n",
    "\n",
    "\n",
    "a\n",
    "['coco', 'mary', 'elain', 'rick']\n",
    "```"
   ]
  },
  {
   "cell_type": "code",
   "execution_count": 18,
   "id": "3cdf5275",
   "metadata": {},
   "outputs": [
    {
     "name": "stdout",
     "output_type": "stream",
     "text": [
      "Updated colors list: ['blue', 'orange', 'black', 'white']\n"
     ]
    }
   ],
   "source": [
    "# Practice cell\n",
    "# Your task: Change the second element of your colors-list to \"orange\" and display the updated list.\n",
    "\n",
    "colors[1] = \"orange\"\n",
    "\n",
    "print(\"Updated colors list:\", colors)\n",
    "\n",
    "\n"
   ]
  },
  {
   "cell_type": "markdown",
   "id": "304a0346",
   "metadata": {},
   "source": [
    "### Adding Elements to a List\n",
    "In this task, we append the string \"TU BS\" to the end of the names list using the `append` method. This adds a new element to the list.\n",
    "\n",
    "```python\n",
    "# define a list\n",
    "a = ['john', 'mary', 'phoebe', 'rick']\n",
    "\n",
    "# add an element to the end\n",
    "a.append('TU BS')\n",
    "\n",
    "\n",
    "a\n",
    "['john', 'mary', 'phoebe', 'rick', 'TU BS']\n",
    "```\n"
   ]
  },
  {
   "cell_type": "code",
   "execution_count": 19,
   "id": "a3bec22a",
   "metadata": {},
   "outputs": [
    {
     "name": "stdout",
     "output_type": "stream",
     "text": [
      "Updated  list: ['blue', 'orange', 'black', 'white', 'brown']\n",
      "Length before 4\n",
      "Length after 5\n"
     ]
    }
   ],
   "source": [
    "# Practice cell\n",
    "# Your task: Add \"brown\" to the end of your 'colors' list and display the updated list. \n",
    "# (check the length before and after adding the new element.)\n",
    "\n",
    "\n",
    "length_before = len(colors)\n",
    "colors.append(\"brown\")\n",
    "length_after = len(colors)\n",
    "\n",
    "print(\"Updated  list:\", colors)\n",
    "print(\"Length before\", length_before)\n",
    "print(\"Length after\", length_after)\n",
    "\n"
   ]
  },
  {
   "cell_type": "markdown",
   "id": "482e3b64",
   "metadata": {},
   "source": [
    "### Removing Elements from a List\n",
    "Here, we use the `pop` method to remove the fourth element (index 3) from the names list. The updated list is displayed.\n",
    "\n",
    "```python\n",
    "\n",
    "# define a list\n",
    "a = ['john', 'mary', 'phoebe', 'rick']\n",
    "\n",
    "# remove the 2nd element\n",
    "a.pop(1)\n",
    "\n",
    "\n",
    "a\n",
    "['john', 'phoebe', 'rick']\n",
    "```"
   ]
  },
  {
   "cell_type": "code",
   "execution_count": 20,
   "id": "58cd96bd",
   "metadata": {},
   "outputs": [
    {
     "name": "stdout",
     "output_type": "stream",
     "text": [
      "Removed element: brown\n",
      "Updated colors list: ['blue', 'orange', 'black', 'white']\n",
      "Length before removing the last element: 5\n",
      "Length after removing the last element: 4\n"
     ]
    }
   ],
   "source": [
    "# Practice cell\n",
    "# Your task: Remove the last element from your 'colors' list and display both the removed element and the updated list.\n",
    "# (check the length before and after removing the new element.)\n",
    "\n",
    "\n",
    "length_before = len(colors)\n",
    "removed_element = colors.pop()\n",
    "length_after = len(colors)\n",
    "\n",
    "print(\"Removed element:\", removed_element)\n",
    "print(\"Updated colors list:\", colors)\n",
    "print(\"Length before removing the last element:\", length_before)\n",
    "print(\"Length after removing the last element:\", length_after)\n"
   ]
  },
  {
   "cell_type": "markdown",
   "id": "ea6c34f4",
   "metadata": {},
   "source": [
    "### Checking List Membership\n",
    "In this task, we check if the string \"john\" is present in the names list using the in keyword. The result is a boolean value indicating whether it's in the list.\n",
    "\n",
    "```python\n",
    "\n",
    "# define a list\n",
    "a = ['john', 'mary', 'phoebe', 'rick']\n",
    "\n",
    "\n",
    "# is 'john' in a\n",
    "'john' in a\n",
    "True\n",
    "\n",
    "\n",
    "# is 'cat' in a\n",
    "'cat' in a\n",
    "False\n",
    "```\n"
   ]
  },
  {
   "cell_type": "code",
   "execution_count": 21,
   "id": "d6708abf",
   "metadata": {},
   "outputs": [
    {
     "name": "stdout",
     "output_type": "stream",
     "text": [
      "'orange' is in the colors list.\n"
     ]
    }
   ],
   "source": [
    "# Practice cell\n",
    "# Your task: Check if 'orange' is in your 'colors' list.\n",
    "\n",
    "if 'orange' in colors:\n",
    "    print(\"'orange' is in the colors list.\")\n",
    "else:\n",
    "    print(\"'orange' is not in the colors list.\")\n",
    "\n"
   ]
  },
  {
   "cell_type": "markdown",
   "id": "63723970",
   "metadata": {},
   "source": [
    "## Dictionary\n",
    "In Python, a dictionary is a versatile data structure that stores a collection of key-value pairs. Each key is unique and maps to a corresponding value. Dictionaries are useful for associating data, making it easy to retrieve values using their unique keys.\n",
    "\n",
    "### creating a dictionary\n",
    "In this task, we create a dictionary called student with two key-value pairs: 'name' maps to 'Alice', and 'age' maps to 25.\n",
    "\n",
    "```python\n",
    "# Create a dictionary 'student' with keys 'name' and 'age' and provide corresponding values\n",
    "student = {'name': 'Alice', 'age': 25}\n",
    "\n",
    "\n",
    "student\n",
    "{'name': 'Alice', 'age': 25}\n",
    "```"
   ]
  },
  {
   "cell_type": "code",
   "execution_count": 22,
   "id": "7366d5ce",
   "metadata": {},
   "outputs": [
    {
     "name": "stdout",
     "output_type": "stream",
     "text": [
      "Book details:\n",
      "Title: The Great Gatsby\n",
      "Author:  F. Scott\n"
     ]
    }
   ],
   "source": [
    "# Practice cell\n",
    "# Your task: Create a dictionary 'book' with keys 'title' and 'author' and provide values for a book of your choice.\n",
    "\n",
    "book = {\n",
    "    'title': 'The Great Gatsby',\n",
    "    'author': ' F. Scott'\n",
    "}\n",
    "\n",
    "# Printing the book dictionary\n",
    "print(\"Book details:\")\n",
    "print(\"Title:\", book['title'])\n",
    "print(\"Author:\", book['author'])\n"
   ]
  },
  {
   "cell_type": "markdown",
   "id": "cc9a9071",
   "metadata": {},
   "source": [
    "### Accessing Dictionary Values\n",
    "Here, we access the value associated with the 'name' key in the student dictionary and store it in the variable student_name.\n",
    "\n",
    "```python\n",
    "student['name']\n",
    "'Alice'\n",
    "```"
   ]
  },
  {
   "cell_type": "code",
   "execution_count": 23,
   "id": "6ddc9e05",
   "metadata": {},
   "outputs": [
    {
     "name": "stdout",
     "output_type": "stream",
     "text": [
      "Author:  F. Scott\n"
     ]
    }
   ],
   "source": [
    "# Practice cell\n",
    "# Your task: Access the 'author' value from the 'book' dictionary you created.\n",
    "\n",
    "author = book['author']\n",
    "print(\"Author:\", author)\n"
   ]
  },
  {
   "cell_type": "markdown",
   "id": "2be3ac5e",
   "metadata": {},
   "source": [
    "### Modifying Dictionary Values\n",
    "In this task, we modify the 'age' value in the student dictionary from 25 to 39.\n",
    "\n",
    "```python\n",
    "\n",
    "student['age'] = 39\n",
    "\n",
    "\n",
    "student\n",
    "{'name': 'Alice', 'age': 39}\n",
    "```"
   ]
  },
  {
   "cell_type": "code",
   "execution_count": 25,
   "id": "ed33d0f4",
   "metadata": {},
   "outputs": [
    {
     "name": "stdout",
     "output_type": "stream",
     "text": [
      "Updated book details:\n",
      "Title: Big bang\n",
      "Author:  F. Scott\n"
     ]
    }
   ],
   "source": [
    "# Practice cell\n",
    "# Your task: Update the 'title' value in the 'book' dictionary to a different book title.\n",
    "\n",
    "book['title'] = 'Big bang'\n",
    "\n",
    "print(\"Updated book details:\")\n",
    "print(\"Title:\", book['title'])\n",
    "print(\"Author:\", book['author'])\n",
    "\n"
   ]
  },
  {
   "cell_type": "markdown",
   "id": "d60e344c",
   "metadata": {},
   "source": [
    "### Adding New Key-Value Pairs\n",
    "Here, we introduce a new key 'grade' with the value 'A' to the student dictionary.\n",
    "\n",
    "```python\n",
    "\n",
    "student['grade'] = 'A'\n",
    "\n",
    "\n",
    "student\n",
    "{'name': 'Alice', 'age': 25, 'grade': 'A'}\n",
    "```"
   ]
  },
  {
   "cell_type": "code",
   "execution_count": 27,
   "id": "19a741f4",
   "metadata": {},
   "outputs": [
    {
     "name": "stdout",
     "output_type": "stream",
     "text": [
      "Updated book details:\n",
      "Title: Big bang\n",
      "Author:  F. Scott\n",
      "Year: 1949\n"
     ]
    }
   ],
   "source": [
    "# Practice cell\n",
    "# Your task: Add a new key-value pair 'year' to the 'book' dictionary indicating the publication year.\n",
    "\n",
    "book['year'] = 1949\n",
    "\n",
    "print(\"Updated book details:\")\n",
    "print(\"Title:\", book['title'])\n",
    "print(\"Author:\", book['author'])\n",
    "print(\"Year:\", book['year'])\n",
    "\n"
   ]
  },
  {
   "cell_type": "markdown",
   "id": "cacfb561",
   "metadata": {},
   "source": [
    "### Removing Key-Value Pairs\n",
    "In this task, we remove the 'grade' key and its associated value from the student dictionary.\n",
    "\n",
    "```python\n",
    "\n",
    "del student['grade'] = 'A'\n",
    "\n",
    "\n",
    "student\n",
    "{'name': 'Alice', 'age': 25}\n",
    "```"
   ]
  },
  {
   "cell_type": "code",
   "execution_count": 28,
   "id": "1d102483",
   "metadata": {},
   "outputs": [
    {
     "name": "stdout",
     "output_type": "stream",
     "text": [
      "Updated book details after removing the 'year' key:\n",
      "Title: Big bang\n",
      "Author:  F. Scott\n"
     ]
    }
   ],
   "source": [
    "# Practice cell\n",
    "# Your task: Remove the 'year' key-value pair from the 'book' dictionary.\n",
    "\n",
    " \n",
    "book.pop('year')\n",
    " \n",
    "print(\"Updated book details after removing the 'year' key:\")\n",
    "print(\"Title:\", book['title'])\n",
    "print(\"Author:\", book['author'])\n"
   ]
  },
  {
   "cell_type": "code",
   "execution_count": null,
   "id": "f77dc851",
   "metadata": {},
   "outputs": [],
   "source": []
  }
 ],
 "metadata": {
  "kernelspec": {
   "display_name": "Python 3 (ipykernel)",
   "language": "python",
   "name": "python3"
  },
  "language_info": {
   "codemirror_mode": {
    "name": "ipython",
    "version": 3
   },
   "file_extension": ".py",
   "mimetype": "text/x-python",
   "name": "python",
   "nbconvert_exporter": "python",
   "pygments_lexer": "ipython3",
   "version": "3.11.0"
  }
 },
 "nbformat": 4,
 "nbformat_minor": 5
}
