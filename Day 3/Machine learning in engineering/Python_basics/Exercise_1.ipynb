{
 "cells": [
  {
   "cell_type": "markdown",
   "metadata": {},
   "source": [
    "# Exercise 1: Introduction to Programming with Python I"
   ]
  },
  {
   "cell_type": "markdown",
   "metadata": {},
   "source": [
    "## Task 1: \n",
    "### Console Output:\n",
    "The \"Hello, World!\" program holds a special place in the world of programming. It serves as the inaugural code that programmers write when learning a new language, providing a hands-on introduction to syntax and structure. Running this simple program verifies the setup and ensures the compiler or interpreter is functioning correctly. It acts as a debugging and troubleshooting tool, revealing any initial environment issues. This initial success boosts confidence and serves as a foundation for further learning. Beyond its practical utility, \"Hello, World!\" is a cultural touchstone for programmers worldwide, signifying a shared experience in the realm of coding. This humble snippet has become a symbolic rite of passage and a testament to the universality of programming languages.\n",
    "\n",
    "\"Hello, World!\" program in Java:\n",
    "```\n",
    "public class HelloWorld {\n",
    "    public static void main(String[] args) {\n",
    "        System.out.println(\"Hello, World!\");\n",
    "    }\n",
    "}\n",
    "```\n",
    "\n",
    "\"Hello, World!\" program in C++:\n",
    "```\n",
    "#include <iostream>\n",
    "\n",
    "int main() {\n",
    "    std::cout << \"Hello, World!\" << std::endl;\n",
    "    return 0;\n",
    "}\n",
    "```\n",
    "\n",
    "\"Hello, World!\" program in Python:"
   ]
  },
  {
   "cell_type": "code",
   "execution_count": 1,
   "metadata": {},
   "outputs": [
    {
     "name": "stdout",
     "output_type": "stream",
     "text": [
      "Hello, World!\n"
     ]
    }
   ],
   "source": [
    "print(\"Hello, World!\")"
   ]
  },
  {
   "cell_type": "markdown",
   "metadata": {},
   "source": [
    "### Console Input:\n",
    "The input() function in Python allows a program to receive input from the user. When called, it displays a message (prompt) to the user, waits for them to type something, and then returns the entered value as a string. This function is commonly used for interactive programs where user interaction is required."
   ]
  },
  {
   "cell_type": "code",
   "execution_count": 2,
   "metadata": {},
   "outputs": [
    {
     "name": "stdout",
     "output_type": "stream",
     "text": [
      "Your name: Vignesh\n"
     ]
    }
   ],
   "source": [
    "# Python Console Input Example\n",
    "user_name = input(\"Please enter your name: \")\n",
    "print(f\"Your name: {user_name}\")"
   ]
  },
  {
   "cell_type": "markdown",
   "metadata": {},
   "source": [
    " **Task: Now, write a program that prints the “Hello, <user_name>!” message.**\n",
    " \n",
    " i.e. if user_name is \"Hans\" then it should print \"Hello, Hans!\""
   ]
  },
  {
   "cell_type": "code",
   "execution_count": 6,
   "metadata": {},
   "outputs": [],
   "source": [
    "# Write your code here!\n",
    "if (user_name == \"Hans\"):\n",
    "    print(f\"Hello, {user_name}!\");\n"
   ]
  },
  {
   "cell_type": "markdown",
   "metadata": {},
   "source": [
    "## Task 2:\n",
    "### Data Types in Python:\n",
    "In Python, data types define the nature of the values that a variable can hold. There are several built-in data types, and understanding them is crucial for effective programming.\n",
    "\n",
    "1. Integer (`int`) : Integers are whole numbers without a decimal point.\n",
    "```python\n",
    "    # Example of an integer\n",
    "    x = 5\n",
    "```\n",
    "2. Float (`float`) : Floats are numbers with a decimal point.\n",
    "```python\n",
    "    # Example of a float\n",
    "    y = 3.14\n",
    "```\n",
    "3. String (`str`) : Strings represent textual data and are enclosed in single (') or double (\") quotes.\n",
    "```python\n",
    "    # Example of a string\n",
    "    message = \"Hello, World!\"\n",
    "```\n",
    "4. Boolean (`bool`) : Booleans represent truth values, either True or False.\n",
    "```python\n",
    "    # Example of a boolean\n",
    "    is_valid = True\n",
    "```\n",
    "- There is also a special type in Python that represents the absence of a value: NoneType (`None`)\n",
    "```python\n",
    "    # Example of None\n",
    "    empty_value = None\n",
    "```"
   ]
  },
  {
   "cell_type": "markdown",
   "metadata": {},
   "source": [
    "### Typecasting:\n",
    "\n",
    "Typecasting, also known as type conversion, is the process of changing the data type of a variable or value in a programming language. This allows you to perform operations or use values in ways that might not have been possible with their original types.\n",
    "\n",
    "For example, you might need to convert a string containing a number into an actual numeric value so that you can perform arithmetic operations on it. Similarly, you might want to convert a number into a string to concatenate it with other strings.\n",
    "\n",
    "Python provides a set of built-in functions for typecasting, including:\n",
    "\n",
    "- `int()` : Converts a value to an integer.\n",
    "- `float()` : Converts a value to a floating-point number.\n",
    "- `str()` : Converts a value to a string.\n",
    "- `bool()` : Converts a value to a boolean."
   ]
  },
  {
   "cell_type": "markdown",
   "metadata": {},
   "source": [
    "### Checking Data Type:\n",
    "\n",
    "Checking the data type of a variable or value is an important aspect of programming. It allows you to verify that the data you're working with is of the expected type. This is particularly useful when dealing with user input or external data sources, where the data type may not always be known in advance.\n",
    "\n",
    "1. Using `type()` Function: \n",
    "\n",
    "    Usage: `type(variable)` returns the type of the variable.\n",
    "\n",
    "2. Using `isinstance()` Function: \n",
    "    \n",
    "    Usage `isinstance(variable, data_type)` returns *True* if the variable is an instance of the specified data type, otherwise *False*."
   ]
  },
  {
   "cell_type": "code",
   "execution_count": 7,
   "metadata": {},
   "outputs": [
    {
     "name": "stdout",
     "output_type": "stream",
     "text": [
      "Data type of the given input: <class 'str'>\n",
      "The input number was successfully typecasted to integer! And now its datatype is: <class 'int'>\n"
     ]
    }
   ],
   "source": [
    "# Check if the given input is an integer or a string\n",
    "input_num = input(\"Please enter an Integer: \")\n",
    "print(f\"Data type of the given input: {type(input_num)}\")\n",
    "\n",
    "# Typecast string to integer\n",
    "input_num = int(input_num)\n",
    "\n",
    "# Check if \"input_num\" is indeed an integer or not and print its datatype\n",
    "if isinstance(input_num, int):\n",
    "    print(f\"The input number was successfully typecasted to integer! And now its datatype is: {type(input_num)}\")"
   ]
  },
  {
   "cell_type": "markdown",
   "metadata": {},
   "source": [
    "**Task: Now, write a program that takes an integer and prints its square.**"
   ]
  },
  {
   "cell_type": "code",
   "execution_count": 11,
   "metadata": {},
   "outputs": [
    {
     "name": "stdout",
     "output_type": "stream",
     "text": [
      "16\n"
     ]
    }
   ],
   "source": [
    "input_num = input(\"Please enter an Integer: \")\n",
    "\n",
    "# Start your code here!\n",
    "square = int(input_num)*int(input_num)\n",
    "print((square))"
   ]
  },
  {
   "cell_type": "markdown",
   "metadata": {},
   "source": [
    "## Task 3:"
   ]
  },
  {
   "cell_type": "markdown",
   "metadata": {},
   "source": [
    "### Conditionals:\n",
    "\n",
    "In Python, conditional statements allow us to control the flow of our program based on certain conditions. The primary conditional statements are `if`, `elif` (short for else if), and `else`.\n",
    "\n",
    "The `if` statement is used to execute a block of code only if a certain condition is true."
   ]
  },
  {
   "cell_type": "code",
   "execution_count": 12,
   "metadata": {},
   "outputs": [
    {
     "name": "stdout",
     "output_type": "stream",
     "text": [
      "x is greater than 5\n"
     ]
    }
   ],
   "source": [
    "# Example of an if statement\n",
    "x = 10\n",
    "\n",
    "if x > 5:\n",
    "    print(\"x is greater than 5\")"
   ]
  },
  {
   "cell_type": "markdown",
   "metadata": {},
   "source": [
    "Now, try to write on your own a program that prints the “Hello, World!” if the variable \"print_hello\" is true."
   ]
  },
  {
   "cell_type": "code",
   "execution_count": 13,
   "metadata": {},
   "outputs": [
    {
     "name": "stdout",
     "output_type": "stream",
     "text": [
      "Hello, World!\n"
     ]
    }
   ],
   "source": [
    "print_hello = True\n",
    "\n",
    "# Write your code here! \n",
    "print_hello = True\n",
    " \n",
    "if print_hello:\n",
    "    print(\"Hello, World!\")\n"
   ]
  },
  {
   "cell_type": "markdown",
   "metadata": {},
   "source": [
    "The `else` statement is used to execute a block of code if the if condition is false."
   ]
  },
  {
   "cell_type": "code",
   "execution_count": 14,
   "metadata": {},
   "outputs": [
    {
     "name": "stdout",
     "output_type": "stream",
     "text": [
      "x is not greater than 5\n"
     ]
    }
   ],
   "source": [
    "# Example of an if-else statement\n",
    "x = 2\n",
    "\n",
    "if x > 5:\n",
    "    print(\"x is greater than 5\")\n",
    "else:\n",
    "    print(\"x is not greater than 5\")"
   ]
  },
  {
   "cell_type": "markdown",
   "metadata": {},
   "source": [
    "The `elif` statement is used to specify additional conditions after the initial if statement. It allows you to check multiple conditions sequentially."
   ]
  },
  {
   "cell_type": "code",
   "execution_count": 15,
   "metadata": {},
   "outputs": [
    {
     "name": "stdout",
     "output_type": "stream",
     "text": [
      "x is less than 5\n"
     ]
    }
   ],
   "source": [
    "# Example of an if-elif-else statement\n",
    "x = 0\n",
    "\n",
    "if x > 5:\n",
    "    print(\"x is greater than 5\")\n",
    "elif x == 5:\n",
    "    print(\"x is equal to 5\")\n",
    "else:\n",
    "    print(\"x is less than 5\")"
   ]
  },
  {
   "cell_type": "markdown",
   "metadata": {},
   "source": [
    "You can also nest conditional statements within each other for more complex logic."
   ]
  },
  {
   "cell_type": "code",
   "execution_count": 16,
   "metadata": {},
   "outputs": [
    {
     "name": "stdout",
     "output_type": "stream",
     "text": [
      "x is greater than 5\n",
      "x is smaller than 15\n"
     ]
    }
   ],
   "source": [
    "# Example of nested conditionals\n",
    "x = 10\n",
    "\n",
    "if x > 5:\n",
    "    print(\"x is greater than 5\")\n",
    "    if x < 15:\n",
    "        print(\"x is smaller than 15\")"
   ]
  },
  {
   "cell_type": "markdown",
   "metadata": {},
   "source": [
    "You can further use logical operators (`and`, `or`, `not`) to combine multiple conditions together."
   ]
  },
  {
   "cell_type": "code",
   "execution_count": 17,
   "metadata": {},
   "outputs": [
    {
     "name": "stdout",
     "output_type": "stream",
     "text": [
      "x is greater than 5 and smaller than 15\n"
     ]
    }
   ],
   "source": [
    "# Example of combining conditions\n",
    "x = 10\n",
    "\n",
    "if x > 5 and x < 15:\n",
    "    print(\"x is greater than 5 and smaller than 15\")"
   ]
  },
  {
   "cell_type": "markdown",
   "metadata": {},
   "source": [
    "\n",
    "### Task 3.1:\n",
    "**Write a program that prints true if any one of the three input integers is greater than or equal to the sum of the other two and false otherwise. This computation tests whether the three numbers could be the lengths of the sides of some triangle.**"
   ]
  },
  {
   "cell_type": "code",
   "execution_count": 18,
   "metadata": {},
   "outputs": [
    {
     "name": "stdout",
     "output_type": "stream",
     "text": [
      "True\n"
     ]
    }
   ],
   "source": [
    "num1 = input(\"Please enter the first integer: \")\n",
    "num2 = input(\"Please enter the second integer: \")\n",
    "num3 = input(\"Please enter the third integer: \")\n",
    "\n",
    "# Start writing your code from here!\n",
    "if num1 >= num2 + num3 or num2 >= num1 + num3 or num3 >= num1 + num2:\n",
    "    print(True)\n",
    "else:\n",
    "    print(False)"
   ]
  },
  {
   "cell_type": "markdown",
   "metadata": {},
   "source": [
    "### Task 3.2:\n",
    "\n",
    "**Write a code fragment that prints true if two floating point numbers x and y are both strictly between 0 and 1 and false otherwise.**"
   ]
  },
  {
   "cell_type": "code",
   "execution_count": 21,
   "metadata": {},
   "outputs": [
    {
     "name": "stdout",
     "output_type": "stream",
     "text": [
      "False\n"
     ]
    }
   ],
   "source": [
    "num1 = input(\"Please enter the first floating point number: \")\n",
    "num2 = input(\"Please enter the second floating point number: \")\n",
    "\n",
    "# Start writing your code from here!\n",
    "if 0 < float(num1) < 1 and 0 < float(num2) < 1:\n",
    "    print(True)\n",
    "else:\n",
    "    print(False)\n"
   ]
  },
  {
   "cell_type": "code",
   "execution_count": null,
   "metadata": {},
   "outputs": [],
   "source": []
  }
 ],
 "metadata": {
  "kernelspec": {
   "display_name": "Python 3",
   "language": "python",
   "name": "python3"
  },
  "language_info": {
   "codemirror_mode": {
    "name": "ipython",
    "version": 3
   },
   "file_extension": ".py",
   "mimetype": "text/x-python",
   "name": "python",
   "nbconvert_exporter": "python",
   "pygments_lexer": "ipython3",
   "version": "3.11.0"
  },
  "orig_nbformat": 4
 },
 "nbformat": 4,
 "nbformat_minor": 2
}
