{
 "cells": [
  {
   "cell_type": "markdown",
   "id": "c25d00de-db96-4ae8-b12e-408dbfc688a3",
   "metadata": {
    "user_expressions": []
   },
   "source": [
    "# A & P - interactive python programming basics"
   ]
  },
  {
   "cell_type": "markdown",
   "id": "245a051c-01ce-4f2a-a776-ecb4f66b7bb1",
   "metadata": {
    "user_expressions": []
   },
   "source": [
    "In the past it has been shown that in this course students with different programming skills come together, accordingly it is a challenge to find a satisfactory level for all. To ensure that everyone has the same basics, we have created this jupyter notebook. With this you can refresh your knowledge or learn about new aspects.\n",
    "\n",
    "All topics are presented first and followed with suggestions on how you can change the existing source code. So you can experience directly which elements in the code do what. \n",
    "If you still have questions, please ask us during the tutorials or send us an email.\n",
    "*Note: For questions about programming problems, the Internet with Google, Stackoverflow, ChatGPT and so on is a great way to look for help.*"
   ]
  },
  {
   "cell_type": "markdown",
   "id": "2d799193-f277-45ca-920a-95286755b43e",
   "metadata": {
    "user_expressions": []
   },
   "source": [
    "## 1. Console output\n",
    "In order to show results of calculations, give informations about a problem or basically anything else we use the console. To be more precise, we use a **print()** statement. "
   ]
  },
  {
   "cell_type": "code",
   "execution_count": 1,
   "id": "dd22ccd5-f349-4cb8-9d74-9ab16f55d7d2",
   "metadata": {},
   "outputs": [
    {
     "name": "stdout",
     "output_type": "stream",
     "text": [
      "Hello World!\n",
      "True\n",
      "132456789 98.7654321\n"
     ]
    }
   ],
   "source": [
    "print('Hello World!')\n",
    "print(True)\n",
    "print(132456789, 98.7654321)"
   ]
  },
  {
   "cell_type": "markdown",
   "id": "c2da57dd-d3e4-4bfb-b90b-2eb793077fdb",
   "metadata": {
    "user_expressions": []
   },
   "source": [
    "As you can see we can put nearly everything into a **print()** statement. Have you noticed in the last line we printed two different things? <br>\"research\" suggestions:\n",
    "- Why is Hello World! inbetween ' ', but numbers not?\n",
    "- Is it possible to combine different data types in a print?"
   ]
  },
  {
   "cell_type": "markdown",
   "id": "54242d85-4c6f-4fc0-9e85-aecc6aa0b038",
   "metadata": {
    "user_expressions": []
   },
   "source": [
    "Sometimes it is helpful to combine informations in a single **print()** statement. To be more precise, we create a *string* with all the information and print it.\n",
    "<br> \"research\" suggestions:\n",
    "\n",
    "- How would one subtract the numbers?\n",
    "- Let's add a third number.\n",
    "- With the Syntax it is possible to include other variables as well. You could try including a string in the string or a boolean."
   ]
  },
  {
   "cell_type": "code",
   "execution_count": 2,
   "id": "fac15741-fca2-4df9-9fc7-4b86efad90d3",
   "metadata": {},
   "outputs": [
    {
     "name": "stdout",
     "output_type": "stream",
     "text": [
      "5\n",
      "We have the first number 5 and the second number 9. We can even multiply them while creating this string: 45\n"
     ]
    }
   ],
   "source": [
    "num1 = 5  # assign the value 5 to a variable called num1\n",
    "num2 = 9  # assign the value 9 to a variable called num2\n",
    "\n",
    "print(num1)  # print the content of variable num1, does the same as print(5)\n",
    "\n",
    "print(f'We have the first number {num1} and the second number {num2}. We can even multiply them while creating this string: {num1 * num2}')"
   ]
  },
  {
   "cell_type": "markdown",
   "id": "57a485f9-d61e-4cd0-acb0-5fd2ed15baff",
   "metadata": {
    "user_expressions": []
   },
   "source": [
    "## 2. Conditionals\n",
    "A great strength of computer programs is their flexible behavior. One way to achieve this is by using conditional statements. "
   ]
  },
  {
   "cell_type": "code",
   "execution_count": 3,
   "id": "7511bc8f-cc45-4bcb-a9bf-f3b837a5a62b",
   "metadata": {},
   "outputs": [
    {
     "name": "stdout",
     "output_type": "stream",
     "text": [
      "150\n"
     ]
    }
   ],
   "source": [
    "num3 = 150\n",
    "\n",
    "if num3 == 150:  # num3 == 150 resolves to True, so read if True do print\n",
    "    print(num3)\n",
    "else:\n",
    "    print('Number was not right')"
   ]
  },
  {
   "cell_type": "markdown",
   "id": "a2048f68-8aa5-4f62-93e9-6f88c6137295",
   "metadata": {
    "user_expressions": []
   },
   "source": [
    "The logic behind this code is implement with the line **num3 == 150**. We take care of comparing operators to obtain wether the comparison is *True* or *False*, because this is what eventually is relevant for the if. We know the following operators:\n",
    "- **==** means is equal\n",
    "- **!=** means is not equal\n",
    "- **>=** bigger or equal, but can be used without = as well, so only checks if bigger\n",
    "- **<=** smaller or equal\n",
    "\n",
    "One can even combine statements, e.g. **if num3 >= 100 or num3%50 == 0**. This statement will be True if the number is bigger or equal to 100 or if the number is a multiple of 50. \n",
    "\n",
    "<br>\"research\" suggestions:\n",
    "- What does the percent sign do? Hint it's the modulo operator \n",
    "- Implement other comparison operators in the above example. \n",
    "- Think of another statement, where you link to comparisons with each other, but this time use **and**, so they statement is only True if both sides are True\n",
    "- Did you know this code works without and else?\n",
    "- Additionally we can use another if (*elif*). So rework the code in a way that if the number is 70, the number is printed, if the number is a multiple of 2, print that is is an even number. If none of these two cases is True, print out a random sentence. "
   ]
  },
  {
   "cell_type": "markdown",
   "id": "02cc57ed-a1a5-4ef0-8007-5f06140835aa",
   "metadata": {
    "user_expressions": []
   },
   "source": [
    "## 3. Loops \n",
    "Many tasks require to repeat some lines of code several times. This is where a programmer makes use of a loop. So let's make a comparison by printing the numbers 1 to 8."
   ]
  },
  {
   "cell_type": "code",
   "execution_count": 4,
   "id": "96aa273f-6233-4a51-b56f-c00b4571846a",
   "metadata": {},
   "outputs": [
    {
     "name": "stdout",
     "output_type": "stream",
     "text": [
      "1\n",
      "2\n",
      "3\n",
      "4\n",
      "5\n",
      "6\n",
      "7\n",
      "8\n"
     ]
    }
   ],
   "source": [
    "print(1)\n",
    "print(2)\n",
    "print(3)\n",
    "print(4)\n",
    "print(5)\n",
    "print(6)\n",
    "print(7)\n",
    "print(8)"
   ]
  },
  {
   "cell_type": "markdown",
   "id": "23370379-3093-432e-acd0-806a86cab3db",
   "metadata": {
    "user_expressions": []
   },
   "source": [
    "The task itself is not difficult, but we can see the code is quite extensive considering its simple function. The problem is called redundancy/ redundant code. You will realize the issue with the following \"research\" suggestions:\n",
    "- We want our printed numbers to start at 0 and run till 10.\n",
    "- Just numbers is to boring. Combine them with a String, e.g. The number is: "
   ]
  },
  {
   "cell_type": "markdown",
   "id": "5c3a3f54-f937-44e7-ae2a-b07a209816c4",
   "metadata": {
    "user_expressions": []
   },
   "source": [
    "While solving these tasks you might have realized that all lines had to be changed. Therefore you had to rework all of them and doing a repeated task often leads to errors. This is why it is good to avoid redundant code wherever is is possible. "
   ]
  },
  {
   "cell_type": "code",
   "execution_count": 5,
   "id": "7562836b-ced2-4767-a05c-8f9f4d8f267b",
   "metadata": {},
   "outputs": [
    {
     "name": "stdout",
     "output_type": "stream",
     "text": [
      "The number is 0\n",
      "The number is 1\n",
      "The number is 2\n",
      "The number is 3\n",
      "The number is 4\n",
      "The number is 5\n",
      "The number is 6\n",
      "The number is 7\n",
      "The number is 8\n",
      "The number is 9\n",
      "The number is 10\n"
     ]
    }
   ],
   "source": [
    "for number in range(0,11,1):\n",
    "    print(f'The number is {number}')"
   ]
  },
  {
   "cell_type": "markdown",
   "id": "b9eb98fd-9150-41e4-a8df-3d7046c2659a",
   "metadata": {
    "user_expressions": []
   },
   "source": [
    "A loop solves this problem with ease. If we want to change the range of numbers, only one line has to be altered. Changing the print statement requires only one change, too. So how does the loop work: <br>\n",
    "We have the head, **(for number in range(0,11,1):)**, and the body, which is indent and can in theory contain an infinite number of lines. \n",
    "Describing the head as a sentence: We have a variable called **number**. It gets assigned values from **0** (inclusive) until 10, because **11** is an exclusive boundary. The variable **number** gets **increased by one**, this is called an iteration. For each iteration we do run the indented code with the current value of number.\n",
    "<br> \"research\" suggestions:\n",
    "- Rewrite the code so the number get's increased in steps of 2 and let the print statement say \"I love the number:\"\n",
    "- Since a loop can run backwards as well, make a new loop that simulates the last 10 seconds till new years eve. Print something like \"X seconds till 9999\"\n",
    "- A powerful duo is a loop combined with conditionals. Write a loop that only prints multiples of 3 between 17 and 39"
   ]
  },
  {
   "cell_type": "code",
   "execution_count": 6,
   "id": "392a34e6-7cc8-4b9b-8d68-790ec1acb3cd",
   "metadata": {},
   "outputs": [
    {
     "name": "stdout",
     "output_type": "stream",
     "text": [
      "23\n",
      "24\n",
      "25\n",
      "26\n"
     ]
    }
   ],
   "source": [
    "cnt = 23  # cnt is short of counter\n",
    "while cnt < 27:\n",
    "    print(cnt)\n",
    "    cnt +=1  # cnt = cnt + 1, works the same with - * /"
   ]
  },
  {
   "cell_type": "markdown",
   "id": "ccfd3629-39b5-4126-8dff-7f7e7f694607",
   "metadata": {
    "user_expressions": []
   },
   "source": [
    "Instead of having a defined length in the **for**-loop the **while**- loop is more flexible as it runs as long as the statement in its head is True. Therefore it is mandatory to manipulate the variable, which is used in the statement, in the body of the loop, e.g. **cnt +=1** However the incrementation is much more flexible. <br>\n",
    "Both loops can be controlled with additonal keywords:\n",
    "- *break* ends the loop. \n",
    "- *continue* just ends the current iteration, but the loop continues afterwards.\n",
    "\n",
    "**ATTENTION** It is very likely to end up in an endless loop, always keep that in mind. \n",
    "<br> \"research\" suggestions:\n",
    "- Print numbers 0 to 10 with a while\n",
    "- Only print even numbers\n",
    "- Print every second number and numbers that are multiples of 3\n",
    "- If the number 6 is reached, nothing shall happen"
   ]
  },
  {
   "cell_type": "markdown",
   "id": "43ac17b8-1867-4769-96cf-3e6c09700b67",
   "metadata": {
    "user_expressions": []
   },
   "source": [
    "## 4. Lists\n",
    "Until now you only worked with variables that held one information. Often it is helpful to store multiple values togehter, e.g. results of an experiment. This is where data structres get handy. The most basic one in python is a list. It can be initialized empty or with values and there is no limit to how many values it can hold. It even is possible to store different datatypes in it. However, this is not recommended as it might lead to errors.<br>\n",
    "When it comes to lists and other datastructures it is important to keep in mind that the index starts at 0. So the first value has the index 0 and the last one has the index *len(list_name)-1*"
   ]
  },
  {
   "cell_type": "code",
   "execution_count": 7,
   "id": "d68546fa-5604-46a3-9d9a-2c8da96d0f7f",
   "metadata": {},
   "outputs": [
    {
     "name": "stdout",
     "output_type": "stream",
     "text": [
      "[]\n",
      "[1, 2, 3, 4, 5]\n",
      "1\n",
      "5\n",
      "1\n",
      "2\n",
      "3\n",
      "4\n",
      "5\n"
     ]
    }
   ],
   "source": [
    "empty_list = []\n",
    "filled_list = [1,2,3,4,5]\n",
    "\n",
    "print(empty_list)\n",
    "print(filled_list)\n",
    "print(filled_list[0])  # print the first value of a list\n",
    "print(filled_list[len(filled_list)-1])  # instead one can write filled_list[-1]\n",
    "\n",
    "for number in filled_list:  # so called for-each loop, which can be used to iterate through lists\n",
    "    print(number)"
   ]
  },
  {
   "cell_type": "markdown",
   "id": "5d022b7d-4f6c-4f30-84a6-eb46570eda39",
   "metadata": {
    "user_expressions": []
   },
   "source": [
    "\"research\" suggestions:\n",
    "- What else datatypes are included in python and what are they helpful for?\n",
    "- Look up python list slicing or indexing and find a way to reverser a list with just one line of code\n",
    "- Change the third value of the filled_list to the number 9, but do it with indexing.\n",
    "- Create two lists of same size and transfer the values between both with a loop"
   ]
  },
  {
   "cell_type": "markdown",
   "id": "768d04b4-6ccd-4950-86bf-dec94b2502e5",
   "metadata": {
    "user_expressions": []
   },
   "source": [
    "## 5. Functions\n",
    "If a task has to be repeated several times in a program it barely ever is good to copy&paste the code, because this creates redundant code. Instaed the code is put into a function, that can be called from anywhere and multiple times. The needed information, in belows example it's a list with numbers, is handed over and processed. From where the function is called it is just one line."
   ]
  },
  {
   "cell_type": "code",
   "execution_count": 8,
   "id": "05fd2c83-e07d-4318-821f-0161ed65ab95",
   "metadata": {},
   "outputs": [
    {
     "name": "stdout",
     "output_type": "stream",
     "text": [
      "21\n",
      "56\n"
     ]
    }
   ],
   "source": [
    "def summation(input):\n",
    "    sum = 0\n",
    "    for i in range(len(input)):\n",
    "        sum += input[i]\n",
    "    print(sum)\n",
    "    \n",
    "    \n",
    "block1 = [1,5,8,7]\n",
    "summation(block1)\n",
    "block2 = [13,2,-8,49]\n",
    "summation(block2)"
   ]
  },
  {
   "cell_type": "markdown",
   "id": "88a2c883-5e0e-4fa2-a34d-eb95c248d34e",
   "metadata": {
    "user_expressions": []
   },
   "source": [
    "\"research\" suggestions:\n",
    "- Next to the list another number has to be handed over. It gets added to the sum as well.\n",
    "- This number shall be a default value. You might need to use the internet to guide you.\n",
    "- Write a new function that calculates the median value of a handed over list. This is an advanced task"
   ]
  },
  {
   "cell_type": "markdown",
   "id": "212d3536",
   "metadata": {},
   "source": []
  }
 ],
 "metadata": {
  "kernelspec": {
   "display_name": "Python 3 (ipykernel)",
   "language": "python",
   "name": "python3"
  },
  "language_info": {
   "codemirror_mode": {
    "name": "ipython",
    "version": 3
   },
   "file_extension": ".py",
   "mimetype": "text/x-python",
   "name": "python",
   "nbconvert_exporter": "python",
   "pygments_lexer": "ipython3",
   "version": "3.11.0"
  },
  "scenes_data": {
   "active_scene": "Default Scene",
   "init_scene": "",
   "scenes": [
    "Default Scene"
   ]
  }
 },
 "nbformat": 4,
 "nbformat_minor": 5
}
